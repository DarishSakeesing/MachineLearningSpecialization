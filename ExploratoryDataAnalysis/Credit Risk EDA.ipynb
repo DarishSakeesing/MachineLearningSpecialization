{
 "cells": [
  {
   "cell_type": "markdown",
   "metadata": {},
   "source": [
    "# Exploratory Data Analysis for Machine Learning\n",
    "## Author: Darish Sakeesing"
   ]
  },
  {
   "cell_type": "markdown",
   "metadata": {},
   "source": [
    "This is my final project for the IBM course named 'Exploratory Data Analysis for Machine Learning'. This project follows the following steps:<br>\n",
    "- Data Selection and Collection,<br><br>\n",
    "- Data Wrangling and Cleaning,<br><br>\n",
    "- Data Analysis,<br><br>\n",
    "- Hypothesis Statement,<br><br>\n",
    "- Hypothesis Testing.<br><br>"
   ]
  },
  {
   "cell_type": "markdown",
   "metadata": {},
   "source": [
    "## Data Selection\n",
    "\n",
    "I will be using a dataset found on Kaggle on credit risk. \n",
    "It can be found here: https://www.kaggle.com/gauravduttakiit/loan-defaulter\n",
    "\n",
    "Since there is not much information about how this data was gathered, for the sake of this project, I will assume good statiscal methods were employed during the collection of the data.\n",
    "\n",
    "The purpose of this dataset is to train machine learning models to recognize risk. This is beyond the scope of this project and therefore there are too many fields that are not needed. They will be dropped for a cleaner dataset."
   ]
  },
  {
   "cell_type": "markdown",
   "metadata": {},
   "source": [
    "## Importing the data\n",
    "\n",
    "Import the libraries needed."
   ]
  },
  {
   "cell_type": "code",
   "execution_count": 17,
   "metadata": {},
   "outputs": [],
   "source": [
    "import pandas as pd\n",
    "from sklearn.preprocessing import OneHotEncoder\n",
    "import seaborn as sns\n",
    "import matplotlib.pyplot as plt\n",
    "from scipy.stats.mstats import winsorize\n",
    "from scipy import stats\n",
    "import numpy as np"
   ]
  },
  {
   "cell_type": "code",
   "execution_count": 18,
   "metadata": {},
   "outputs": [],
   "source": [
    "import pprint"
   ]
  },
  {
   "cell_type": "markdown",
   "metadata": {},
   "source": [
    "Read the data from CSV into a Dataframe"
   ]
  },
  {
   "cell_type": "code",
   "execution_count": 19,
   "metadata": {},
   "outputs": [],
   "source": [
    "application_data = pd.read_csv('archive-4/application_data.csv', header = 0)"
   ]
  },
  {
   "cell_type": "code",
   "execution_count": 20,
   "metadata": {},
   "outputs": [
    {
     "name": "stdout",
     "output_type": "stream",
     "text": [
      "Index(['SK_ID_CURR', 'TARGET', 'NAME_CONTRACT_TYPE', 'CODE_GENDER',\n",
      "       'FLAG_OWN_CAR', 'FLAG_OWN_REALTY', 'CNT_CHILDREN', 'AMT_INCOME_TOTAL',\n",
      "       'AMT_CREDIT', 'AMT_ANNUITY',\n",
      "       ...\n",
      "       'FLAG_DOCUMENT_18', 'FLAG_DOCUMENT_19', 'FLAG_DOCUMENT_20',\n",
      "       'FLAG_DOCUMENT_21', 'AMT_REQ_CREDIT_BUREAU_HOUR',\n",
      "       'AMT_REQ_CREDIT_BUREAU_DAY', 'AMT_REQ_CREDIT_BUREAU_WEEK',\n",
      "       'AMT_REQ_CREDIT_BUREAU_MON', 'AMT_REQ_CREDIT_BUREAU_QRT',\n",
      "       'AMT_REQ_CREDIT_BUREAU_YEAR'],\n",
      "      dtype='object', length=122)\n"
     ]
    }
   ],
   "source": [
    "print(application_data.columns)"
   ]
  },
  {
   "cell_type": "markdown",
   "metadata": {},
   "source": [
    "## Data Wrangling\n",
    "\n",
    "Only a subset of the data will be considered for this project. Namely:\n",
    "\n",
    "- SK_ID_CURR: ID of loan in our sample.<br><br>\n",
    "\n",
    "- TARGET: Target variable (1 - client with payment difficulties: he/she had late payment more than X days on at least one of the first Y installments of the loan in our sample, 0 - all other cases)<br><br>\n",
    "- NAME_CONTRACT_TYPE: Identification if loan is cash or revolving.<br><br>\n",
    "\n",
    "- CODE_GENDER: Gender of the client.<br><br>\n",
    "\n",
    "- FLAG_OWN_CAR: Flag if the client owns a car.<br><br>\n",
    "\n",
    "- FLAG_OWN_REALTY: Flag if the client owns property.<br><br>\n",
    "\n",
    "- CNT_CHILDREN: Number of children the client has.<br><br>\n",
    "\n",
    "- AMT_INCOME_TOTAL: Income of the client.<br><br>\n",
    "\n",
    "- AMT_CREDIT: Credit amount of the loan.<br><br>\n",
    "\n",
    "- AMT_ANNUITY: Loan annuity.<br><br>\n",
    "\n",
    "- DAYS_BIRTH: Client's age in days at the time of application.<br><br>"
   ]
  },
  {
   "cell_type": "code",
   "execution_count": 21,
   "metadata": {},
   "outputs": [],
   "source": [
    "data_subset = application_data.loc[:, ['SK_ID_CURR', 'TARGET', 'NAME_CONTRACT_TYPE', 'CODE_GENDER', \n",
    "                                       'FLAG_OWN_CAR', 'FLAG_OWN_REALTY','CNT_CHILDREN','AMT_INCOME_TOTAL',\n",
    "                                       'AMT_CREDIT','AMT_ANNUITY','DAYS_BIRTH']]"
   ]
  },
  {
   "cell_type": "code",
   "execution_count": 22,
   "metadata": {},
   "outputs": [
    {
     "data": {
      "text/plain": [
       "Index(['SK_ID_CURR', 'TARGET', 'NAME_CONTRACT_TYPE', 'CODE_GENDER',\n",
       "       'FLAG_OWN_CAR', 'FLAG_OWN_REALTY', 'CNT_CHILDREN', 'AMT_INCOME_TOTAL',\n",
       "       'AMT_CREDIT', 'AMT_ANNUITY', 'DAYS_BIRTH'],\n",
       "      dtype='object')"
      ]
     },
     "execution_count": 22,
     "metadata": {},
     "output_type": "execute_result"
    }
   ],
   "source": [
    "data_subset.columns"
   ]
  },
  {
   "cell_type": "code",
   "execution_count": 23,
   "metadata": {},
   "outputs": [
    {
     "name": "stdout",
     "output_type": "stream",
     "text": [
      "There are 307511 rows in the DataFrame\n"
     ]
    }
   ],
   "source": [
    "print('There are ' + str(len(data_subset)) + ' rows in the DataFrame')"
   ]
  },
  {
   "cell_type": "code",
   "execution_count": 24,
   "metadata": {},
   "outputs": [
    {
     "data": {
      "text/plain": [
       "SK_ID_CURR              int64\n",
       "TARGET                  int64\n",
       "NAME_CONTRACT_TYPE     object\n",
       "CODE_GENDER            object\n",
       "FLAG_OWN_CAR           object\n",
       "FLAG_OWN_REALTY        object\n",
       "CNT_CHILDREN            int64\n",
       "AMT_INCOME_TOTAL      float64\n",
       "AMT_CREDIT            float64\n",
       "AMT_ANNUITY           float64\n",
       "DAYS_BIRTH              int64\n",
       "dtype: object"
      ]
     },
     "execution_count": 24,
     "metadata": {},
     "output_type": "execute_result"
    }
   ],
   "source": [
    "data_subset.dtypes"
   ]
  },
  {
   "cell_type": "markdown",
   "metadata": {},
   "source": [
    "## Data Cleaning\n",
    "\n",
    "Now that a subset of the data is obtained, some cleaning needs to be done. For instance:\n",
    "\n",
    "- Check for null values and unique values\n",
    "- Create a field called age and calculate AGE from DAYS_BIRTH field\n",
    "- Encode the categorical data like Gender, etc..."
   ]
  },
  {
   "cell_type": "code",
   "execution_count": 25,
   "metadata": {},
   "outputs": [
    {
     "name": "stdout",
     "output_type": "stream",
     "text": [
      "There are 307511 rows.\n",
      "There are 11 columns.\n"
     ]
    }
   ],
   "source": [
    "# Quick exploration of the data\n",
    "\n",
    "rows, col = data_subset.shape\n",
    "print('There are ' + str(rows) + ' rows.')\n",
    "print('There are ' + str(col) + ' columns.')"
   ]
  },
  {
   "cell_type": "code",
   "execution_count": 26,
   "metadata": {},
   "outputs": [
    {
     "data": {
      "text/plain": [
       "SK_ID_CURR            307511\n",
       "TARGET                     2\n",
       "NAME_CONTRACT_TYPE         2\n",
       "CODE_GENDER                3\n",
       "FLAG_OWN_CAR               2\n",
       "FLAG_OWN_REALTY            2\n",
       "CNT_CHILDREN              15\n",
       "AMT_INCOME_TOTAL        2548\n",
       "AMT_CREDIT              5603\n",
       "AMT_ANNUITY            13672\n",
       "DAYS_BIRTH             17460\n",
       "dtype: int64"
      ]
     },
     "execution_count": 26,
     "metadata": {},
     "output_type": "execute_result"
    }
   ],
   "source": [
    "# Check for number of unique values in each column\n",
    "data_subset.nunique(axis=0)"
   ]
  },
  {
   "cell_type": "markdown",
   "metadata": {},
   "source": [
    "There appears to be 3 values in the Gender column. We investigate why further down."
   ]
  },
  {
   "cell_type": "code",
   "execution_count": 27,
   "metadata": {},
   "outputs": [
    {
     "data": {
      "text/plain": [
       "SK_ID_CURR             0\n",
       "TARGET                 0\n",
       "NAME_CONTRACT_TYPE     0\n",
       "CODE_GENDER            0\n",
       "FLAG_OWN_CAR           0\n",
       "FLAG_OWN_REALTY        0\n",
       "CNT_CHILDREN           0\n",
       "AMT_INCOME_TOTAL       0\n",
       "AMT_CREDIT             0\n",
       "AMT_ANNUITY           12\n",
       "DAYS_BIRTH             0\n",
       "dtype: int64"
      ]
     },
     "execution_count": 27,
     "metadata": {},
     "output_type": "execute_result"
    }
   ],
   "source": [
    "# Check for null values\n",
    "data_subset.isnull().sum()"
   ]
  },
  {
   "cell_type": "code",
   "execution_count": 28,
   "metadata": {
    "scrolled": true
   },
   "outputs": [
    {
     "data": {
      "text/html": [
       "<div>\n",
       "<style scoped>\n",
       "    .dataframe tbody tr th:only-of-type {\n",
       "        vertical-align: middle;\n",
       "    }\n",
       "\n",
       "    .dataframe tbody tr th {\n",
       "        vertical-align: top;\n",
       "    }\n",
       "\n",
       "    .dataframe thead th {\n",
       "        text-align: right;\n",
       "    }\n",
       "</style>\n",
       "<table border=\"1\" class=\"dataframe\">\n",
       "  <thead>\n",
       "    <tr style=\"text-align: right;\">\n",
       "      <th></th>\n",
       "      <th>SK_ID_CURR</th>\n",
       "      <th>TARGET</th>\n",
       "      <th>NAME_CONTRACT_TYPE</th>\n",
       "      <th>CODE_GENDER</th>\n",
       "      <th>FLAG_OWN_CAR</th>\n",
       "      <th>FLAG_OWN_REALTY</th>\n",
       "      <th>CNT_CHILDREN</th>\n",
       "      <th>AMT_INCOME_TOTAL</th>\n",
       "      <th>AMT_CREDIT</th>\n",
       "      <th>AMT_ANNUITY</th>\n",
       "      <th>DAYS_BIRTH</th>\n",
       "    </tr>\n",
       "  </thead>\n",
       "  <tbody>\n",
       "    <tr>\n",
       "      <th>47531</th>\n",
       "      <td>155054</td>\n",
       "      <td>0</td>\n",
       "      <td>Cash loans</td>\n",
       "      <td>M</td>\n",
       "      <td>N</td>\n",
       "      <td>N</td>\n",
       "      <td>0</td>\n",
       "      <td>180000.0</td>\n",
       "      <td>450000.0</td>\n",
       "      <td>NaN</td>\n",
       "      <td>-10668</td>\n",
       "    </tr>\n",
       "    <tr>\n",
       "      <th>50035</th>\n",
       "      <td>157917</td>\n",
       "      <td>0</td>\n",
       "      <td>Cash loans</td>\n",
       "      <td>F</td>\n",
       "      <td>N</td>\n",
       "      <td>N</td>\n",
       "      <td>0</td>\n",
       "      <td>94500.0</td>\n",
       "      <td>450000.0</td>\n",
       "      <td>NaN</td>\n",
       "      <td>-9027</td>\n",
       "    </tr>\n",
       "    <tr>\n",
       "      <th>51594</th>\n",
       "      <td>159744</td>\n",
       "      <td>0</td>\n",
       "      <td>Cash loans</td>\n",
       "      <td>F</td>\n",
       "      <td>N</td>\n",
       "      <td>N</td>\n",
       "      <td>0</td>\n",
       "      <td>202500.0</td>\n",
       "      <td>539100.0</td>\n",
       "      <td>NaN</td>\n",
       "      <td>-17376</td>\n",
       "    </tr>\n",
       "    <tr>\n",
       "      <th>55025</th>\n",
       "      <td>163757</td>\n",
       "      <td>0</td>\n",
       "      <td>Cash loans</td>\n",
       "      <td>F</td>\n",
       "      <td>N</td>\n",
       "      <td>N</td>\n",
       "      <td>0</td>\n",
       "      <td>162000.0</td>\n",
       "      <td>296280.0</td>\n",
       "      <td>NaN</td>\n",
       "      <td>-11329</td>\n",
       "    </tr>\n",
       "    <tr>\n",
       "      <th>59934</th>\n",
       "      <td>169487</td>\n",
       "      <td>0</td>\n",
       "      <td>Cash loans</td>\n",
       "      <td>M</td>\n",
       "      <td>Y</td>\n",
       "      <td>N</td>\n",
       "      <td>0</td>\n",
       "      <td>202500.0</td>\n",
       "      <td>360000.0</td>\n",
       "      <td>NaN</td>\n",
       "      <td>-19762</td>\n",
       "    </tr>\n",
       "    <tr>\n",
       "      <th>75873</th>\n",
       "      <td>187985</td>\n",
       "      <td>0</td>\n",
       "      <td>Cash loans</td>\n",
       "      <td>M</td>\n",
       "      <td>Y</td>\n",
       "      <td>N</td>\n",
       "      <td>0</td>\n",
       "      <td>144000.0</td>\n",
       "      <td>219249.0</td>\n",
       "      <td>NaN</td>\n",
       "      <td>-20831</td>\n",
       "    </tr>\n",
       "    <tr>\n",
       "      <th>89343</th>\n",
       "      <td>203726</td>\n",
       "      <td>0</td>\n",
       "      <td>Cash loans</td>\n",
       "      <td>F</td>\n",
       "      <td>Y</td>\n",
       "      <td>N</td>\n",
       "      <td>0</td>\n",
       "      <td>90000.0</td>\n",
       "      <td>157500.0</td>\n",
       "      <td>NaN</td>\n",
       "      <td>-12134</td>\n",
       "    </tr>\n",
       "    <tr>\n",
       "      <th>123872</th>\n",
       "      <td>243648</td>\n",
       "      <td>0</td>\n",
       "      <td>Cash loans</td>\n",
       "      <td>F</td>\n",
       "      <td>N</td>\n",
       "      <td>Y</td>\n",
       "      <td>0</td>\n",
       "      <td>202500.0</td>\n",
       "      <td>929088.0</td>\n",
       "      <td>NaN</td>\n",
       "      <td>-13902</td>\n",
       "    </tr>\n",
       "    <tr>\n",
       "      <th>207186</th>\n",
       "      <td>340147</td>\n",
       "      <td>0</td>\n",
       "      <td>Cash loans</td>\n",
       "      <td>M</td>\n",
       "      <td>N</td>\n",
       "      <td>N</td>\n",
       "      <td>0</td>\n",
       "      <td>171000.0</td>\n",
       "      <td>486000.0</td>\n",
       "      <td>NaN</td>\n",
       "      <td>-10151</td>\n",
       "    </tr>\n",
       "    <tr>\n",
       "      <th>227939</th>\n",
       "      <td>364022</td>\n",
       "      <td>0</td>\n",
       "      <td>Cash loans</td>\n",
       "      <td>F</td>\n",
       "      <td>N</td>\n",
       "      <td>Y</td>\n",
       "      <td>0</td>\n",
       "      <td>315000.0</td>\n",
       "      <td>628069.5</td>\n",
       "      <td>NaN</td>\n",
       "      <td>-16344</td>\n",
       "    </tr>\n",
       "    <tr>\n",
       "      <th>239329</th>\n",
       "      <td>377174</td>\n",
       "      <td>0</td>\n",
       "      <td>Cash loans</td>\n",
       "      <td>F</td>\n",
       "      <td>N</td>\n",
       "      <td>Y</td>\n",
       "      <td>0</td>\n",
       "      <td>157500.0</td>\n",
       "      <td>792000.0</td>\n",
       "      <td>NaN</td>\n",
       "      <td>-17661</td>\n",
       "    </tr>\n",
       "    <tr>\n",
       "      <th>241835</th>\n",
       "      <td>379997</td>\n",
       "      <td>0</td>\n",
       "      <td>Cash loans</td>\n",
       "      <td>F</td>\n",
       "      <td>N</td>\n",
       "      <td>N</td>\n",
       "      <td>0</td>\n",
       "      <td>315000.0</td>\n",
       "      <td>1483231.5</td>\n",
       "      <td>NaN</td>\n",
       "      <td>-15072</td>\n",
       "    </tr>\n",
       "  </tbody>\n",
       "</table>\n",
       "</div>"
      ],
      "text/plain": [
       "        SK_ID_CURR  TARGET NAME_CONTRACT_TYPE CODE_GENDER FLAG_OWN_CAR  \\\n",
       "47531       155054       0         Cash loans           M            N   \n",
       "50035       157917       0         Cash loans           F            N   \n",
       "51594       159744       0         Cash loans           F            N   \n",
       "55025       163757       0         Cash loans           F            N   \n",
       "59934       169487       0         Cash loans           M            Y   \n",
       "75873       187985       0         Cash loans           M            Y   \n",
       "89343       203726       0         Cash loans           F            Y   \n",
       "123872      243648       0         Cash loans           F            N   \n",
       "207186      340147       0         Cash loans           M            N   \n",
       "227939      364022       0         Cash loans           F            N   \n",
       "239329      377174       0         Cash loans           F            N   \n",
       "241835      379997       0         Cash loans           F            N   \n",
       "\n",
       "       FLAG_OWN_REALTY  CNT_CHILDREN  AMT_INCOME_TOTAL  AMT_CREDIT  \\\n",
       "47531                N             0          180000.0    450000.0   \n",
       "50035                N             0           94500.0    450000.0   \n",
       "51594                N             0          202500.0    539100.0   \n",
       "55025                N             0          162000.0    296280.0   \n",
       "59934                N             0          202500.0    360000.0   \n",
       "75873                N             0          144000.0    219249.0   \n",
       "89343                N             0           90000.0    157500.0   \n",
       "123872               Y             0          202500.0    929088.0   \n",
       "207186               N             0          171000.0    486000.0   \n",
       "227939               Y             0          315000.0    628069.5   \n",
       "239329               Y             0          157500.0    792000.0   \n",
       "241835               N             0          315000.0   1483231.5   \n",
       "\n",
       "        AMT_ANNUITY  DAYS_BIRTH  \n",
       "47531           NaN      -10668  \n",
       "50035           NaN       -9027  \n",
       "51594           NaN      -17376  \n",
       "55025           NaN      -11329  \n",
       "59934           NaN      -19762  \n",
       "75873           NaN      -20831  \n",
       "89343           NaN      -12134  \n",
       "123872          NaN      -13902  \n",
       "207186          NaN      -10151  \n",
       "227939          NaN      -16344  \n",
       "239329          NaN      -17661  \n",
       "241835          NaN      -15072  "
      ]
     },
     "execution_count": 28,
     "metadata": {},
     "output_type": "execute_result"
    }
   ],
   "source": [
    "# There are 12 records with no value in the AMT_ANNUITY field. Let's see them!\n",
    "data_subset[data_subset['AMT_ANNUITY'].isnull()]"
   ]
  },
  {
   "cell_type": "markdown",
   "metadata": {},
   "source": [
    "We won't drop the records with no values in AMT_ANNUITY. We will instead convert the null values to -1 "
   ]
  },
  {
   "cell_type": "code",
   "execution_count": 29,
   "metadata": {},
   "outputs": [
    {
     "data": {
      "text/plain": [
       "SK_ID_CURR            0\n",
       "TARGET                0\n",
       "NAME_CONTRACT_TYPE    0\n",
       "CODE_GENDER           0\n",
       "FLAG_OWN_CAR          0\n",
       "FLAG_OWN_REALTY       0\n",
       "CNT_CHILDREN          0\n",
       "AMT_INCOME_TOTAL      0\n",
       "AMT_CREDIT            0\n",
       "AMT_ANNUITY           0\n",
       "DAYS_BIRTH            0\n",
       "dtype: int64"
      ]
     },
     "execution_count": 29,
     "metadata": {},
     "output_type": "execute_result"
    }
   ],
   "source": [
    "#Fill NaN values with -1\n",
    "data_subset = data_subset.fillna(-1)\n",
    "\n",
    "#Check\n",
    "data_subset.isnull().sum()\n"
   ]
  },
  {
   "cell_type": "code",
   "execution_count": 30,
   "metadata": {},
   "outputs": [
    {
     "data": {
      "text/html": [
       "<div>\n",
       "<style scoped>\n",
       "    .dataframe tbody tr th:only-of-type {\n",
       "        vertical-align: middle;\n",
       "    }\n",
       "\n",
       "    .dataframe tbody tr th {\n",
       "        vertical-align: top;\n",
       "    }\n",
       "\n",
       "    .dataframe thead th {\n",
       "        text-align: right;\n",
       "    }\n",
       "</style>\n",
       "<table border=\"1\" class=\"dataframe\">\n",
       "  <thead>\n",
       "    <tr style=\"text-align: right;\">\n",
       "      <th></th>\n",
       "      <th>DAYS_BIRTH</th>\n",
       "      <th>AGE</th>\n",
       "    </tr>\n",
       "  </thead>\n",
       "  <tbody>\n",
       "    <tr>\n",
       "      <th>0</th>\n",
       "      <td>-9461</td>\n",
       "      <td>25.9</td>\n",
       "    </tr>\n",
       "    <tr>\n",
       "      <th>1</th>\n",
       "      <td>-16765</td>\n",
       "      <td>45.9</td>\n",
       "    </tr>\n",
       "    <tr>\n",
       "      <th>2</th>\n",
       "      <td>-19046</td>\n",
       "      <td>52.2</td>\n",
       "    </tr>\n",
       "    <tr>\n",
       "      <th>3</th>\n",
       "      <td>-19005</td>\n",
       "      <td>52.1</td>\n",
       "    </tr>\n",
       "    <tr>\n",
       "      <th>4</th>\n",
       "      <td>-19932</td>\n",
       "      <td>54.6</td>\n",
       "    </tr>\n",
       "  </tbody>\n",
       "</table>\n",
       "</div>"
      ],
      "text/plain": [
       "   DAYS_BIRTH   AGE\n",
       "0       -9461  25.9\n",
       "1      -16765  45.9\n",
       "2      -19046  52.2\n",
       "3      -19005  52.1\n",
       "4      -19932  54.6"
      ]
     },
     "execution_count": 30,
     "metadata": {},
     "output_type": "execute_result"
    }
   ],
   "source": [
    "# Create a field called AGE and calculate age based on field called DAYS_BIRTH\n",
    "data_subset['AGE'] = data_subset['DAYS_BIRTH'] * -1 / 365\n",
    "data_subset = data_subset.round(1)\n",
    "data_subset[['DAYS_BIRTH', 'AGE']].head()"
   ]
  },
  {
   "cell_type": "code",
   "execution_count": 31,
   "metadata": {},
   "outputs": [
    {
     "data": {
      "text/html": [
       "<div>\n",
       "<style scoped>\n",
       "    .dataframe tbody tr th:only-of-type {\n",
       "        vertical-align: middle;\n",
       "    }\n",
       "\n",
       "    .dataframe tbody tr th {\n",
       "        vertical-align: top;\n",
       "    }\n",
       "\n",
       "    .dataframe thead th {\n",
       "        text-align: right;\n",
       "    }\n",
       "</style>\n",
       "<table border=\"1\" class=\"dataframe\">\n",
       "  <thead>\n",
       "    <tr style=\"text-align: right;\">\n",
       "      <th></th>\n",
       "      <th>CODE_GENDER_F</th>\n",
       "      <th>CODE_GENDER_M</th>\n",
       "      <th>CODE_GENDER_XNA</th>\n",
       "      <th>FLAG_OWN_CAR_N</th>\n",
       "      <th>FLAG_OWN_CAR_Y</th>\n",
       "      <th>FLAG_OWN_REALTY_N</th>\n",
       "      <th>FLAG_OWN_REALTY_Y</th>\n",
       "    </tr>\n",
       "  </thead>\n",
       "  <tbody>\n",
       "    <tr>\n",
       "      <th>0</th>\n",
       "      <td>0.0</td>\n",
       "      <td>1.0</td>\n",
       "      <td>0.0</td>\n",
       "      <td>1.0</td>\n",
       "      <td>0.0</td>\n",
       "      <td>0.0</td>\n",
       "      <td>1.0</td>\n",
       "    </tr>\n",
       "    <tr>\n",
       "      <th>1</th>\n",
       "      <td>1.0</td>\n",
       "      <td>0.0</td>\n",
       "      <td>0.0</td>\n",
       "      <td>1.0</td>\n",
       "      <td>0.0</td>\n",
       "      <td>1.0</td>\n",
       "      <td>0.0</td>\n",
       "    </tr>\n",
       "    <tr>\n",
       "      <th>2</th>\n",
       "      <td>0.0</td>\n",
       "      <td>1.0</td>\n",
       "      <td>0.0</td>\n",
       "      <td>0.0</td>\n",
       "      <td>1.0</td>\n",
       "      <td>0.0</td>\n",
       "      <td>1.0</td>\n",
       "    </tr>\n",
       "    <tr>\n",
       "      <th>3</th>\n",
       "      <td>1.0</td>\n",
       "      <td>0.0</td>\n",
       "      <td>0.0</td>\n",
       "      <td>1.0</td>\n",
       "      <td>0.0</td>\n",
       "      <td>0.0</td>\n",
       "      <td>1.0</td>\n",
       "    </tr>\n",
       "    <tr>\n",
       "      <th>4</th>\n",
       "      <td>0.0</td>\n",
       "      <td>1.0</td>\n",
       "      <td>0.0</td>\n",
       "      <td>1.0</td>\n",
       "      <td>0.0</td>\n",
       "      <td>0.0</td>\n",
       "      <td>1.0</td>\n",
       "    </tr>\n",
       "  </tbody>\n",
       "</table>\n",
       "</div>"
      ],
      "text/plain": [
       "   CODE_GENDER_F  CODE_GENDER_M  CODE_GENDER_XNA  FLAG_OWN_CAR_N  \\\n",
       "0            0.0            1.0              0.0             1.0   \n",
       "1            1.0            0.0              0.0             1.0   \n",
       "2            0.0            1.0              0.0             0.0   \n",
       "3            1.0            0.0              0.0             1.0   \n",
       "4            0.0            1.0              0.0             1.0   \n",
       "\n",
       "   FLAG_OWN_CAR_Y  FLAG_OWN_REALTY_N  FLAG_OWN_REALTY_Y  \n",
       "0             0.0                0.0                1.0  \n",
       "1             0.0                1.0                0.0  \n",
       "2             1.0                0.0                1.0  \n",
       "3             0.0                0.0                1.0  \n",
       "4             0.0                0.0                1.0  "
      ]
     },
     "execution_count": 31,
     "metadata": {},
     "output_type": "execute_result"
    }
   ],
   "source": [
    "# One Hot Encode Categorical fields\n",
    "enc = OneHotEncoder(sparse = False)\n",
    "encoded_features = enc.fit_transform(data_subset[['CODE_GENDER', 'FLAG_OWN_CAR', 'FLAG_OWN_REALTY']])\n",
    "\n",
    "encoded_featuresNames = enc.get_feature_names(['CODE_GENDER', 'FLAG_OWN_CAR', 'FLAG_OWN_REALTY'])\n",
    "\n",
    "encoded_df = pd.DataFrame(data = encoded_features, columns = encoded_featuresNames)\n",
    "encoded_df.head()"
   ]
  },
  {
   "cell_type": "code",
   "execution_count": null,
   "metadata": {},
   "outputs": [],
   "source": []
  },
  {
   "cell_type": "code",
   "execution_count": null,
   "metadata": {},
   "outputs": [],
   "source": []
  },
  {
   "cell_type": "markdown",
   "metadata": {},
   "source": [
    "While encoding Gender, it is revealed that there are missing values in the field that was not detected since they were written as the string 'XNA'. We need to find out how many are there and we have to decide whether to keep them in a separate column like the encoder did, or remove them."
   ]
  },
  {
   "cell_type": "code",
   "execution_count": 32,
   "metadata": {},
   "outputs": [
    {
     "data": {
      "text/plain": [
       "F      202448\n",
       "M      105059\n",
       "XNA         4\n",
       "Name: CODE_GENDER, dtype: int64"
      ]
     },
     "execution_count": 32,
     "metadata": {},
     "output_type": "execute_result"
    }
   ],
   "source": [
    "data_subset['CODE_GENDER'].value_counts()"
   ]
  },
  {
   "cell_type": "markdown",
   "metadata": {},
   "source": [
    "There are 4 records with missing values for Gender. Since we have not decided on what model this data will be used, we cannot assess the impact that the missing gender values will have. It is also possible that those are not a mistake and that the persons did not want to disclose their gender or did not identify with the Gender Binary System. Therefore, we will keep those 4 records as they could prove useful for our model."
   ]
  },
  {
   "cell_type": "code",
   "execution_count": 33,
   "metadata": {
    "scrolled": true
   },
   "outputs": [],
   "source": [
    "#Merging the encoded columns to the dataframe and dropping the old ones.\n",
    "\n",
    "data_subset = data_subset.join(encoded_df)"
   ]
  },
  {
   "cell_type": "code",
   "execution_count": 34,
   "metadata": {},
   "outputs": [],
   "source": [
    "cleaned_data = data_subset.drop(['CODE_GENDER', 'FLAG_OWN_CAR', 'FLAG_OWN_REALTY'], 1)"
   ]
  },
  {
   "cell_type": "code",
   "execution_count": 35,
   "metadata": {},
   "outputs": [
    {
     "data": {
      "text/html": [
       "<div>\n",
       "<style scoped>\n",
       "    .dataframe tbody tr th:only-of-type {\n",
       "        vertical-align: middle;\n",
       "    }\n",
       "\n",
       "    .dataframe tbody tr th {\n",
       "        vertical-align: top;\n",
       "    }\n",
       "\n",
       "    .dataframe thead th {\n",
       "        text-align: right;\n",
       "    }\n",
       "</style>\n",
       "<table border=\"1\" class=\"dataframe\">\n",
       "  <thead>\n",
       "    <tr style=\"text-align: right;\">\n",
       "      <th></th>\n",
       "      <th>SK_ID_CURR</th>\n",
       "      <th>TARGET</th>\n",
       "      <th>NAME_CONTRACT_TYPE</th>\n",
       "      <th>CNT_CHILDREN</th>\n",
       "      <th>AMT_INCOME_TOTAL</th>\n",
       "      <th>AMT_CREDIT</th>\n",
       "      <th>AMT_ANNUITY</th>\n",
       "      <th>DAYS_BIRTH</th>\n",
       "      <th>AGE</th>\n",
       "      <th>CODE_GENDER_F</th>\n",
       "      <th>CODE_GENDER_M</th>\n",
       "      <th>CODE_GENDER_XNA</th>\n",
       "      <th>FLAG_OWN_CAR_N</th>\n",
       "      <th>FLAG_OWN_CAR_Y</th>\n",
       "      <th>FLAG_OWN_REALTY_N</th>\n",
       "      <th>FLAG_OWN_REALTY_Y</th>\n",
       "    </tr>\n",
       "  </thead>\n",
       "  <tbody>\n",
       "    <tr>\n",
       "      <th>0</th>\n",
       "      <td>100002</td>\n",
       "      <td>1</td>\n",
       "      <td>Cash loans</td>\n",
       "      <td>0</td>\n",
       "      <td>202500.0</td>\n",
       "      <td>406597.5</td>\n",
       "      <td>24700.5</td>\n",
       "      <td>-9461</td>\n",
       "      <td>25.9</td>\n",
       "      <td>0.0</td>\n",
       "      <td>1.0</td>\n",
       "      <td>0.0</td>\n",
       "      <td>1.0</td>\n",
       "      <td>0.0</td>\n",
       "      <td>0.0</td>\n",
       "      <td>1.0</td>\n",
       "    </tr>\n",
       "    <tr>\n",
       "      <th>1</th>\n",
       "      <td>100003</td>\n",
       "      <td>0</td>\n",
       "      <td>Cash loans</td>\n",
       "      <td>0</td>\n",
       "      <td>270000.0</td>\n",
       "      <td>1293502.5</td>\n",
       "      <td>35698.5</td>\n",
       "      <td>-16765</td>\n",
       "      <td>45.9</td>\n",
       "      <td>1.0</td>\n",
       "      <td>0.0</td>\n",
       "      <td>0.0</td>\n",
       "      <td>1.0</td>\n",
       "      <td>0.0</td>\n",
       "      <td>1.0</td>\n",
       "      <td>0.0</td>\n",
       "    </tr>\n",
       "    <tr>\n",
       "      <th>2</th>\n",
       "      <td>100004</td>\n",
       "      <td>0</td>\n",
       "      <td>Revolving loans</td>\n",
       "      <td>0</td>\n",
       "      <td>67500.0</td>\n",
       "      <td>135000.0</td>\n",
       "      <td>6750.0</td>\n",
       "      <td>-19046</td>\n",
       "      <td>52.2</td>\n",
       "      <td>0.0</td>\n",
       "      <td>1.0</td>\n",
       "      <td>0.0</td>\n",
       "      <td>0.0</td>\n",
       "      <td>1.0</td>\n",
       "      <td>0.0</td>\n",
       "      <td>1.0</td>\n",
       "    </tr>\n",
       "    <tr>\n",
       "      <th>3</th>\n",
       "      <td>100006</td>\n",
       "      <td>0</td>\n",
       "      <td>Cash loans</td>\n",
       "      <td>0</td>\n",
       "      <td>135000.0</td>\n",
       "      <td>312682.5</td>\n",
       "      <td>29686.5</td>\n",
       "      <td>-19005</td>\n",
       "      <td>52.1</td>\n",
       "      <td>1.0</td>\n",
       "      <td>0.0</td>\n",
       "      <td>0.0</td>\n",
       "      <td>1.0</td>\n",
       "      <td>0.0</td>\n",
       "      <td>0.0</td>\n",
       "      <td>1.0</td>\n",
       "    </tr>\n",
       "    <tr>\n",
       "      <th>4</th>\n",
       "      <td>100007</td>\n",
       "      <td>0</td>\n",
       "      <td>Cash loans</td>\n",
       "      <td>0</td>\n",
       "      <td>121500.0</td>\n",
       "      <td>513000.0</td>\n",
       "      <td>21865.5</td>\n",
       "      <td>-19932</td>\n",
       "      <td>54.6</td>\n",
       "      <td>0.0</td>\n",
       "      <td>1.0</td>\n",
       "      <td>0.0</td>\n",
       "      <td>1.0</td>\n",
       "      <td>0.0</td>\n",
       "      <td>0.0</td>\n",
       "      <td>1.0</td>\n",
       "    </tr>\n",
       "  </tbody>\n",
       "</table>\n",
       "</div>"
      ],
      "text/plain": [
       "   SK_ID_CURR  TARGET NAME_CONTRACT_TYPE  CNT_CHILDREN  AMT_INCOME_TOTAL  \\\n",
       "0      100002       1         Cash loans             0          202500.0   \n",
       "1      100003       0         Cash loans             0          270000.0   \n",
       "2      100004       0    Revolving loans             0           67500.0   \n",
       "3      100006       0         Cash loans             0          135000.0   \n",
       "4      100007       0         Cash loans             0          121500.0   \n",
       "\n",
       "   AMT_CREDIT  AMT_ANNUITY  DAYS_BIRTH   AGE  CODE_GENDER_F  CODE_GENDER_M  \\\n",
       "0    406597.5      24700.5       -9461  25.9            0.0            1.0   \n",
       "1   1293502.5      35698.5      -16765  45.9            1.0            0.0   \n",
       "2    135000.0       6750.0      -19046  52.2            0.0            1.0   \n",
       "3    312682.5      29686.5      -19005  52.1            1.0            0.0   \n",
       "4    513000.0      21865.5      -19932  54.6            0.0            1.0   \n",
       "\n",
       "   CODE_GENDER_XNA  FLAG_OWN_CAR_N  FLAG_OWN_CAR_Y  FLAG_OWN_REALTY_N  \\\n",
       "0              0.0             1.0             0.0                0.0   \n",
       "1              0.0             1.0             0.0                1.0   \n",
       "2              0.0             0.0             1.0                0.0   \n",
       "3              0.0             1.0             0.0                0.0   \n",
       "4              0.0             1.0             0.0                0.0   \n",
       "\n",
       "   FLAG_OWN_REALTY_Y  \n",
       "0                1.0  \n",
       "1                0.0  \n",
       "2                1.0  \n",
       "3                1.0  \n",
       "4                1.0  "
      ]
     },
     "execution_count": 35,
     "metadata": {},
     "output_type": "execute_result"
    }
   ],
   "source": [
    "cleaned_data.head()"
   ]
  },
  {
   "cell_type": "markdown",
   "metadata": {},
   "source": [
    "### Correlogram "
   ]
  },
  {
   "cell_type": "code",
   "execution_count": 36,
   "metadata": {
    "scrolled": false
   },
   "outputs": [],
   "source": [
    "# Correlogram plot for preliminary analysis on the continuous variables\n",
    "# We will only plot a sample of 10,000 records for the sake of fast computation\n",
    "\n",
    "#sns.pairplot(cleaned_data[['AMT_INCOME_TOTAL','AMT_CREDIT', 'AMT_ANNUITY', 'AGE', \n",
    "#                           'CNT_CHILDREN', 'TARGET']].sample(10000), hue='TARGET', plot_kws=dict(alpha=0.5))"
   ]
  },
  {
   "cell_type": "markdown",
   "metadata": {},
   "source": [
    "From the graphs, we can see that there is 1 extreme outlier point in the AMT_INCOME_TOTAL column. Let's investigate that column and the CNT_CHILDREN column."
   ]
  },
  {
   "cell_type": "code",
   "execution_count": 37,
   "metadata": {},
   "outputs": [
    {
     "data": {
      "text/plain": [
       "<matplotlib.axes._subplots.AxesSubplot at 0x7ff5b67e8d90>"
      ]
     },
     "execution_count": 37,
     "metadata": {},
     "output_type": "execute_result"
    },
    {
     "data": {
      "image/png": "[encoded data removed]",
      "text/plain": [
       "<Figure size 432x288 with 1 Axes>"
      ]
     },
     "metadata": {
      "needs_background": "light"
     },
     "output_type": "display_data"
    }
   ],
   "source": [
    "sns.boxplot(data=cleaned_data['AMT_INCOME_TOTAL'])"
   ]
  },
  {
   "cell_type": "code",
   "execution_count": 38,
   "metadata": {},
   "outputs": [
    {
     "data": {
      "text/plain": [
       "<matplotlib.axes._subplots.AxesSubplot at 0x7ff5b170da50>"
      ]
     },
     "execution_count": 38,
     "metadata": {},
     "output_type": "execute_result"
    },
    {
     "data": {
      "image/png": "[encoded data removed]",
      "text/plain": [
       "<Figure size 432x288 with 1 Axes>"
      ]
     },
     "metadata": {
      "needs_background": "light"
     },
     "output_type": "display_data"
    }
   ],
   "source": [
    "sns.boxplot(data=cleaned_data['CNT_CHILDREN'])"
   ]
  },
  {
   "cell_type": "markdown",
   "metadata": {},
   "source": [
    "**Observations:**<br>\n",
    "1. From the boxplot above, we can see that there is 1 extreme outlier in the AMT_INCOME_TOTAL column and a few other outliers that are really affecting our view and would probably cause a lot of harm to any model we decide to use in the future. Since this data is about currency, it is likely that extra zeros have been added by mistake and thus causing those outliers to exist. We shall use the method called Winsorization to deal with them. A definition of the method is:<br> *Winsorization* is the method to reduce the influence of outliers by changing them to be close to other data points. Scipy has a handy method to handle this.<br><br>\n",
    "\n",
    "2. Outliers exist in the CNT_CHILDREN column. The data suggests that people in their 20s have over 10 children and in some extreme cases, over 15 children. That is not really possible and are most likely errors during data entry. We shall eliminate the records that are more than 3 standard deviations from the mean."
   ]
  },
  {
   "cell_type": "code",
   "execution_count": 39,
   "metadata": {},
   "outputs": [],
   "source": [
    "# We will winsorize only the top 5% of the data and see if it has any effects on the distribution.\n",
    "\n",
    "cleaned_data['AMT_INCOME_TOTAL'] = winsorize(cleaned_data['AMT_INCOME_TOTAL'], limits=[None, 0.05])"
   ]
  },
  {
   "cell_type": "markdown",
   "metadata": {},
   "source": [
    "Winsorization clearly worked and now we have a more complete view of the data."
   ]
  },
  {
   "cell_type": "code",
   "execution_count": 40,
   "metadata": {},
   "outputs": [
    {
     "data": {
      "text/plain": [
       "array([-0.57753784, -0.57753784, -0.57753784, ..., -0.57753784,\n",
       "       -0.57753784, -0.57753784])"
      ]
     },
     "execution_count": 40,
     "metadata": {},
     "output_type": "execute_result"
    }
   ],
   "source": [
    "# Removing Count of Children that are 3 standard deviations away from the mean.\n",
    "z_scores = stats.zscore(cleaned_data['CNT_CHILDREN'])\n",
    "z_scores"
   ]
  },
  {
   "cell_type": "code",
   "execution_count": 41,
   "metadata": {},
   "outputs": [
    {
     "data": {
      "text/plain": [
       "array([0.57753784, 0.57753784, 0.57753784, ..., 0.57753784, 0.57753784,\n",
       "       0.57753784])"
      ]
     },
     "execution_count": 41,
     "metadata": {},
     "output_type": "execute_result"
    }
   ],
   "source": [
    "abs_z_scores = np.abs(z_scores)\n",
    "abs_z_scores"
   ]
  },
  {
   "cell_type": "code",
   "execution_count": 42,
   "metadata": {},
   "outputs": [
    {
     "data": {
      "text/plain": [
       "array([ True,  True,  True, ...,  True,  True,  True])"
      ]
     },
     "execution_count": 42,
     "metadata": {},
     "output_type": "execute_result"
    }
   ],
   "source": [
    "filtered_entries = (abs_z_scores < 3)\n",
    "filtered_entries"
   ]
  },
  {
   "cell_type": "code",
   "execution_count": 43,
   "metadata": {},
   "outputs": [
    {
     "name": "stdout",
     "output_type": "stream",
     "text": [
      "There are 307511 records before removing outliers.\n",
      "There are 303239 records after removing outliers.\n",
      "4272 records have been removed.\n"
     ]
    },
    {
     "data": {
      "text/plain": [
       "<matplotlib.axes._subplots.AxesSubplot at 0x7ff56f0b6f90>"
      ]
     },
     "execution_count": 43,
     "metadata": {},
     "output_type": "execute_result"
    },
    {
     "data": {
      "image/png": "[encoded data removed]",
      "text/plain": [
       "<Figure size 432x288 with 1 Axes>"
      ]
     },
     "metadata": {
      "needs_background": "light"
     },
     "output_type": "display_data"
    }
   ],
   "source": [
    "print('There are ' + str(len(cleaned_data.index)) + ' records before removing outliers.')\n",
    "print('There are ' + str(len(cleaned_data[filtered_entries].index)) + ' records after removing outliers.')\n",
    "print(str(len(cleaned_data.index) - len(cleaned_data[filtered_entries].index)) + ' records have been removed.')\n",
    "sns.boxplot(data=cleaned_data[filtered_entries]['CNT_CHILDREN'])"
   ]
  },
  {
   "cell_type": "markdown",
   "metadata": {},
   "source": [
    "4272 records represent 1.3% of the total records and the data becomes a lot more consistent."
   ]
  },
  {
   "cell_type": "code",
   "execution_count": 44,
   "metadata": {},
   "outputs": [],
   "source": [
    "cleaned_data = cleaned_data[filtered_entries]"
   ]
  },
  {
   "cell_type": "markdown",
   "metadata": {},
   "source": [
    "New Correlogram:<br>\n",
    "Since it is hard to visualize over 300,000 points on a small graph, we will sample only 1000 at random and plot them to have a better idea of the data. We can do that because we dealt with outliers already."
   ]
  },
  {
   "cell_type": "code",
   "execution_count": 45,
   "metadata": {},
   "outputs": [],
   "source": [
    "#sns.pairplot(cleaned_data[['AMT_INCOME_TOTAL','AMT_CREDIT', 'AMT_ANNUITY', 'AGE', 'CNT_CHILDREN', 'TARGET']].sample(1000), hue='TARGET', plot_kws=dict(alpha=0.5))"
   ]
  },
  {
   "cell_type": "markdown",
   "metadata": {},
   "source": [
    "## Hypothesis Statement and Testing\n",
    "\n",
    "This data offers an incredible opportunity to determine the most reliable groups to lend money to. From the correlated graph above, we can state a few hypothesis and test them.\n"
   ]
  },
  {
   "cell_type": "markdown",
   "metadata": {},
   "source": [
    "### 1. Comparing Age groups"
   ]
  },
  {
   "cell_type": "code",
   "execution_count": 51,
   "metadata": {},
   "outputs": [
    {
     "data": {
      "text/plain": [
       "<matplotlib.axes._subplots.AxesSubplot at 0x7ff5737a6e10>"
      ]
     },
     "execution_count": 51,
     "metadata": {},
     "output_type": "execute_result"
    },
    {
     "data": {
      "image/png": "[encoded data removed]",
      "text/plain": [
       "<Figure size 432x288 with 1 Axes>"
      ]
     },
     "metadata": {
      "needs_background": "light"
     },
     "output_type": "display_data"
    }
   ],
   "source": [
    "sns.scatterplot(data=cleaned_data[['AMT_INCOME_TOTAL', 'AMT_CREDIT']], y = 'AMT_CREDIT', x='AMT_INCOME_TOTAL')"
   ]
  },
  {
   "cell_type": "code",
   "execution_count": 41,
   "metadata": {},
   "outputs": [
    {
     "data": {
      "text/plain": [
       "<matplotlib.axes._subplots.AxesSubplot at 0x7fcc7b6308d0>"
      ]
     },
     "execution_count": 41,
     "metadata": {},
     "output_type": "execute_result"
    },
    {
     "data": {
      "image/png": "[encoded data removed]",
      "text/plain": [
       "<Figure size 432x288 with 1 Axes>"
      ]
     },
     "metadata": {
      "needs_background": "light"
     },
     "output_type": "display_data"
    }
   ],
   "source": [
    "sns.scatter(data=cleaned_data[['TARGET', 'AGE']].sample(10000), x = 'AGE', hue='TARGET')"
   ]
  },
  {
   "cell_type": "code",
   "execution_count": 45,
   "metadata": {},
   "outputs": [
    {
     "name": "stdout",
     "output_type": "stream",
     "text": [
      "The mean age of Group 0 is 44.30515236172289\n",
      "The mean age of Group 1 is 40.858234956550255\n"
     ]
    }
   ],
   "source": [
    "print('The mean age of Group 0 is ' + str(cleaned_data[cleaned_data['TARGET']==0]['AGE'].mean()))\n",
    "print('The mean age of Group 1 is ' + str(cleaned_data[cleaned_data['TARGET']==1]['AGE'].mean()))"
   ]
  },
  {
   "cell_type": "markdown",
   "metadata": {},
   "source": [
    "From the above data, we can form a hypothesis.\n",
    "\n",
    "**Hypothesis**:<br>\n",
    "\n",
    "*Null Hypothesis:* The mean age of people in Group 0 and Group 1 is the same.<br>\n",
    "*Alternate Hypothesis:* The mean age of people in Group 1 is significantly different than the mean age of people in Group 0.<br>\n",
    "\n",
    "Therefore,<br>\n",
    "$ h_{0}: \\mu_{0} = \\mu_{1} $ <br>\n",
    "$ h_{1}: \\mu_{0} \\neq \\mu_{1} $ <br>\n",
    "\n",
    "where:<br>\n",
    "$ \\mu_{0} $: Mean age of Group 0 <br>\n",
    "$ \\mu_{1} $: Mean age of Group 1 <br><br>\n",
    "\n",
    "Since the age distributions in both groups do not follow a normal distribution, a non-parametric test could be used to determine if the difference in mean is significant.<br>\n",
    "However, I will take samples from each group and calculate their means to get a normal distribution for each group. This will allow us to perform the popular *t-test* instead of something like the *Whitney Mann U Test.*"
   ]
  },
  {
   "cell_type": "code",
   "execution_count": 42,
   "metadata": {},
   "outputs": [
    {
     "name": "stdout",
     "output_type": "stream",
     "text": [
      "There are 278843 records with Target = 0\n",
      "There are 24396 records with Target = 1\n"
     ]
    }
   ],
   "source": [
    "print('There are ' + str(len(cleaned_data[cleaned_data['TARGET']==0])) + ' records with Target = 0')\n",
    "print('There are ' + str(len(cleaned_data[cleaned_data['TARGET']==1])) + ' records with Target = 1')"
   ]
  },
  {
   "cell_type": "code",
   "execution_count": 47,
   "metadata": {},
   "outputs": [],
   "source": [
    "age_sample_0 = [0] * 10000\n",
    "age_sample_1 = [0] * 10000\n",
    "\n",
    "for i in range(len(age_sample_0)):\n",
    "    age_sample_0[i] = cleaned_data[cleaned_data['TARGET'] == 0]['AGE'].sample(5000).mean()\n",
    "    age_sample_1[i] = cleaned_data[cleaned_data['TARGET'] == 1]['AGE'].sample(1000).mean()\n",
    "    \n",
    "age_means = pd.DataFrame(data={'group_0':age_sample_0, 'group_1':age_sample_1})\n"
   ]
  },
  {
   "cell_type": "code",
   "execution_count": 48,
   "metadata": {},
   "outputs": [
    {
     "data": {
      "text/plain": [
       "<matplotlib.axes._subplots.AxesSubplot at 0x7fcc7c54b950>"
      ]
     },
     "execution_count": 48,
     "metadata": {},
     "output_type": "execute_result"
    },
    {
     "data": {
      "image/png": "[encoded data removed]",
      "text/plain": [
       "<Figure size 432x288 with 1 Axes>"
      ]
     },
     "metadata": {
      "needs_background": "light"
     },
     "output_type": "display_data"
    }
   ],
   "source": [
    "age_means.plot.kde()"
   ]
  },
  {
   "cell_type": "markdown",
   "metadata": {},
   "source": [
    "We can see from the density plot that there is a clear difference between the mean of Group 0 and Group 1. However, to make sure that this difference is statistically significant and did not happen by chance, we have to perform a t-test. Our significance level is 5% and the p value is 2.5% since we are doing a two-tail test.<br><br>\n",
    "\n",
    "Fortunately, scipy has a function to handle this test for us."
   ]
  },
  {
   "cell_type": "code",
   "execution_count": 50,
   "metadata": {},
   "outputs": [
    {
     "name": "stdout",
     "output_type": "stream",
     "text": [
      "The Null Hypothesis is rejected.\n"
     ]
    }
   ],
   "source": [
    "statistic, p_value = stats.ttest_ind(age_means['group_0'], age_means['group_1'])\n",
    "significance_level = 0.05\n",
    "if p_value < significance_level:\n",
    "    print('The Null Hypothesis is rejected.')\n",
    "else:\n",
    "    print('The Null Hypothesis cannot be rejected')"
   ]
  },
  {
   "cell_type": "markdown",
   "metadata": {},
   "source": [
    "**Conclusion:**<br>\n",
    "The Null hypothesis is rejected. Therefore, we accept that there is a difference between the means of Group 0 and Group 1, and in this case, $ \\mu_{1} < \\mu_{0} $<br>"
   ]
  },
  {
   "cell_type": "markdown",
   "metadata": {},
   "source": [
    "### 2. Comparing Income Groups"
   ]
  },
  {
   "cell_type": "code",
   "execution_count": 51,
   "metadata": {},
   "outputs": [
    {
     "data": {
      "text/plain": [
       "<matplotlib.axes._subplots.AxesSubplot at 0x7fcc7bb9ab50>"
      ]
     },
     "execution_count": 51,
     "metadata": {},
     "output_type": "execute_result"
    },
    {
     "data": {
      "image/png": "[encoded data removed]",
      "text/plain": [
       "<Figure size 432x288 with 1 Axes>"
      ]
     },
     "metadata": {
      "needs_background": "light"
     },
     "output_type": "display_data"
    }
   ],
   "source": [
    "sns.kdeplot(data=cleaned_data[['TARGET', 'AMT_INCOME_TOTAL']].sample(10000), x = 'AMT_INCOME_TOTAL', hue='TARGET')"
   ]
  },
  {
   "cell_type": "code",
   "execution_count": 52,
   "metadata": {},
   "outputs": [
    {
     "name": "stdout",
     "output_type": "stream",
     "text": [
      "The mean income of Group 0 is 163078.8243509789\n",
      "The mean income of Group 1 is 157155.14442941465\n"
     ]
    }
   ],
   "source": [
    "print('The mean income of Group 0 is ' + str(cleaned_data[cleaned_data['TARGET']==0]['AMT_INCOME_TOTAL'].mean()))\n",
    "print('The mean income of Group 1 is ' + str(cleaned_data[cleaned_data['TARGET']==1]['AMT_INCOME_TOTAL'].mean()))"
   ]
  },
  {
   "cell_type": "markdown",
   "metadata": {},
   "source": [
    "From the above data, we can form a hypothesis.\n",
    "\n",
    "**Hypothesis**:<br>\n",
    "\n",
    "*Null Hypothesis:* The mean income of people in Group 0 and Group 1 is the same.<br>\n",
    "*Alternate Hypothesis:* The mean income of people in Group 1 is significantly different than the mean income of people in Group 0.<br>\n",
    "\n",
    "Therefore,<br>\n",
    "$ h_{0}: \\mu_{0} = \\mu_{1} $ <br>\n",
    "$ h_{1}: \\mu_{0} \\neq \\mu_{1} $ <br>\n",
    "\n",
    "where:<br>\n",
    "$ \\mu_{0} $: Mean income of Group 0 <br>\n",
    "$ \\mu_{1} $: Mean income of Group 1 <br><br>\n",
    "\n",
    "Like before, since the income distributions in both groups do not follow a normal distribution, a non-parametric test could be used to determine if the difference in mean is significant.<br>\n",
    "However, I will take samples from each group and calculate their means to get a normal distribution for each group. This will allow us to perform the popular *t-test* instead of something like the *Whitney Mann U Test.*"
   ]
  },
  {
   "cell_type": "code",
   "execution_count": 54,
   "metadata": {},
   "outputs": [
    {
     "data": {
      "text/html": [
       "<div>\n",
       "<style scoped>\n",
       "    .dataframe tbody tr th:only-of-type {\n",
       "        vertical-align: middle;\n",
       "    }\n",
       "\n",
       "    .dataframe tbody tr th {\n",
       "        vertical-align: top;\n",
       "    }\n",
       "\n",
       "    .dataframe thead th {\n",
       "        text-align: right;\n",
       "    }\n",
       "</style>\n",
       "<table border=\"1\" class=\"dataframe\">\n",
       "  <thead>\n",
       "    <tr style=\"text-align: right;\">\n",
       "      <th></th>\n",
       "      <th>group_0</th>\n",
       "      <th>group_1</th>\n",
       "    </tr>\n",
       "  </thead>\n",
       "  <tbody>\n",
       "    <tr>\n",
       "      <th>0</th>\n",
       "      <td>163590.84270</td>\n",
       "      <td>160254.2565</td>\n",
       "    </tr>\n",
       "    <tr>\n",
       "      <th>1</th>\n",
       "      <td>163138.26294</td>\n",
       "      <td>158043.5280</td>\n",
       "    </tr>\n",
       "    <tr>\n",
       "      <th>2</th>\n",
       "      <td>162791.21880</td>\n",
       "      <td>154305.1215</td>\n",
       "    </tr>\n",
       "    <tr>\n",
       "      <th>3</th>\n",
       "      <td>159931.99146</td>\n",
       "      <td>156831.8760</td>\n",
       "    </tr>\n",
       "    <tr>\n",
       "      <th>4</th>\n",
       "      <td>162446.14080</td>\n",
       "      <td>156916.2375</td>\n",
       "    </tr>\n",
       "  </tbody>\n",
       "</table>\n",
       "</div>"
      ],
      "text/plain": [
       "        group_0      group_1\n",
       "0  163590.84270  160254.2565\n",
       "1  163138.26294  158043.5280\n",
       "2  162791.21880  154305.1215\n",
       "3  159931.99146  156831.8760\n",
       "4  162446.14080  156916.2375"
      ]
     },
     "execution_count": 54,
     "metadata": {},
     "output_type": "execute_result"
    }
   ],
   "source": [
    "income_sample_0 = [0] * 10000\n",
    "income_sample_1 = [0] * 10000\n",
    "\n",
    "for i in range(len(income_sample_0)):\n",
    "    income_sample_0[i] = cleaned_data[cleaned_data['TARGET'] == 0]['AMT_INCOME_TOTAL'].sample(5000).mean()\n",
    "    income_sample_1[i] = cleaned_data[cleaned_data['TARGET'] == 1]['AMT_INCOME_TOTAL'].sample(1000).mean()\n",
    "\n",
    "income_means = pd.DataFrame(data={'group_0':income_sample_0, 'group_1':income_sample_1})\n",
    "income_means.head()"
   ]
  },
  {
   "cell_type": "code",
   "execution_count": 55,
   "metadata": {},
   "outputs": [
    {
     "data": {
      "text/plain": [
       "<matplotlib.axes._subplots.AxesSubplot at 0x7fcc74f30410>"
      ]
     },
     "execution_count": 55,
     "metadata": {},
     "output_type": "execute_result"
    },
    {
     "data": {
      "image/png": "[encoded data removed]",
      "text/plain": [
       "<Figure size 432x288 with 1 Axes>"
      ]
     },
     "metadata": {
      "needs_background": "light"
     },
     "output_type": "display_data"
    }
   ],
   "source": [
    "income_means.plot.kde()"
   ]
  },
  {
   "cell_type": "markdown",
   "metadata": {},
   "source": [
    "Let's perform the same t-test as we did for the first hypothesis test."
   ]
  },
  {
   "cell_type": "code",
   "execution_count": 56,
   "metadata": {},
   "outputs": [
    {
     "name": "stdout",
     "output_type": "stream",
     "text": [
      "The Null Hypothesis is rejected.\n"
     ]
    }
   ],
   "source": [
    "statistic, p_value = stats.ttest_ind(income_means['group_0'], income_means['group_1'])\n",
    "significance_level = 0.05\n",
    "if p_value < significance_level:\n",
    "    print('The Null Hypothesis is rejected.')\n",
    "else:\n",
    "    print('The Null Hypothesis cannot be rejected')"
   ]
  },
  {
   "cell_type": "markdown",
   "metadata": {},
   "source": [
    "**Conclusion:**<br>\n",
    "The Null hypothesis is rejected. Therefore, we accept that there is a difference between the means of Group 0 and Group 1, and in this case, $ \\mu_{1} < \\mu_{0} $<br>"
   ]
  },
  {
   "cell_type": "markdown",
   "metadata": {},
   "source": [
    "### 3. Comparing Children Count"
   ]
  },
  {
   "cell_type": "code",
   "execution_count": 57,
   "metadata": {},
   "outputs": [
    {
     "data": {
      "text/plain": [
       "<matplotlib.axes._subplots.AxesSubplot at 0x7fcc7c48e490>"
      ]
     },
     "execution_count": 57,
     "metadata": {},
     "output_type": "execute_result"
    },
    {
     "data": {
      "image/png": "[encoded data removed]",
      "text/plain": [
       "<Figure size 432x288 with 1 Axes>"
      ]
     },
     "metadata": {
      "needs_background": "light"
     },
     "output_type": "display_data"
    }
   ],
   "source": [
    "sns.kdeplot(data=cleaned_data[['TARGET', 'CNT_CHILDREN']].sample(10000), x = 'CNT_CHILDREN', hue='TARGET')"
   ]
  },
  {
   "cell_type": "code",
   "execution_count": 58,
   "metadata": {},
   "outputs": [
    {
     "name": "stdout",
     "output_type": "stream",
     "text": [
      "The mean children count of Group 0 is 0.3747521006444487\n",
      "The mean children count of Group 1 is 0.41482210198393177\n"
     ]
    }
   ],
   "source": [
    "print('The mean children count of Group 0 is ' + str(cleaned_data[cleaned_data['TARGET']==0]['CNT_CHILDREN'].mean()))\n",
    "print('The mean children count of Group 1 is ' + str(cleaned_data[cleaned_data['TARGET']==1]['CNT_CHILDREN'].mean()))"
   ]
  },
  {
   "cell_type": "markdown",
   "metadata": {},
   "source": [
    "From the above data, we can form a hypothesis.\n",
    "\n",
    "**Hypothesis**:<br>\n",
    "\n",
    "*Null Hypothesis:* The mean children of people in Group 0 and Group 1 is the same.<br>\n",
    "*Alternate Hypothesis:* The mean children count of people in Group 1 is significantly different than the mean children count of people in Group 0.<br>\n",
    "\n",
    "Therefore,<br>\n",
    "$ h_{0}: \\mu_{0} = \\mu_{1} $ <br>\n",
    "$ h_{1}: \\mu_{0} \\neq \\mu_{1} $ <br>\n",
    "\n",
    "where:<br>\n",
    "$ \\mu_{0} $: Mean children count of Group 0 <br>\n",
    "$ \\mu_{1} $: Mean children count of Group 1 <br><br>\n",
    "\n",
    "Like before, since the children count distributions in both groups do not follow a normal distribution, a non-parametric test could be used to determine if the difference in mean is significant.<br>\n",
    "However, I will take samples from each group and calculate their means to get a normal distribution for each group. This will allow us to perform the popular *t-test* instead of something like the *Whitney Mann U Test.*"
   ]
  },
  {
   "cell_type": "code",
   "execution_count": 61,
   "metadata": {},
   "outputs": [],
   "source": [
    "children_sample_0 = [0] * 10000\n",
    "children_sample_1 = [0] * 10000\n",
    "\n",
    "for i in range(len(children_sample_0)):\n",
    "    children_sample_0[i] = cleaned_data[cleaned_data['TARGET'] == 0]['CNT_CHILDREN'].sample(5000).mean()\n",
    "    children_sample_1[i] = cleaned_data[cleaned_data['TARGET'] == 1]['CNT_CHILDREN'].sample(1000).mean()\n",
    "\n",
    "children_means = pd.DataFrame(data={'group_0':children_sample_0, 'group_1':children_sample_1})"
   ]
  },
  {
   "cell_type": "code",
   "execution_count": 62,
   "metadata": {},
   "outputs": [
    {
     "data": {
      "text/plain": [
       "<matplotlib.axes._subplots.AxesSubplot at 0x7fcc74e4b450>"
      ]
     },
     "execution_count": 62,
     "metadata": {},
     "output_type": "execute_result"
    },
    {
     "data": {
      "image/png": "[encoded data removed]",
      "text/plain": [
       "<Figure size 432x288 with 1 Axes>"
      ]
     },
     "metadata": {
      "needs_background": "light"
     },
     "output_type": "display_data"
    }
   ],
   "source": [
    "children_means.plot.kde()"
   ]
  },
  {
   "cell_type": "markdown",
   "metadata": {},
   "source": [
    "Let's perform the same t-test as we did for the first and second hypothesis test."
   ]
  },
  {
   "cell_type": "code",
   "execution_count": 68,
   "metadata": {},
   "outputs": [
    {
     "name": "stdout",
     "output_type": "stream",
     "text": [
      "The Null Hypothesis is rejected.\n"
     ]
    }
   ],
   "source": [
    "statistic, p_value = stats.ttest_ind(income_means['group_0'], income_means['group_1'], equal_var=False)\n",
    "significance_level = 0.05\n",
    "if p_value < significance_level:\n",
    "    print('The Null Hypothesis is rejected.')\n",
    "else:\n",
    "    print('The Null Hypothesis cannot be rejected')"
   ]
  },
  {
   "cell_type": "markdown",
   "metadata": {},
   "source": [
    "**Conclusion:**<br>\n",
    "The Null hypothesis is rejected. Therefore, we accept that there is a difference between the means of Group 0 and Group 1, and in this case, $ \\mu_{1} > \\mu_{0} $<br>"
   ]
  },
  {
   "cell_type": "markdown",
   "metadata": {},
   "source": [
    "## Conclusion\n",
    "\n",
    "The dataset now looks in good shape. The next steps would be to find any correlation among the features and select a model that can be trained to predict the 'TARGET' feature.<br>\n",
    "\n",
    "*Request:*<br>\n",
    "I would love if the author of the dataset could enlighten us further on how the data was selected and what could be causing 20 year olds to appear to have 15+ number of children."
   ]
  }
 ],
 "metadata": {
  "kernelspec": {
   "display_name": "Python 3",
   "language": "python",
   "name": "python3"
  },
  "language_info": {
   "codemirror_mode": {
    "name": "ipython",
    "version": 3
   },
   "file_extension": ".py",
   "mimetype": "text/x-python",
   "name": "python",
   "nbconvert_exporter": "python",
   "pygments_lexer": "ipython3",
   "version": "3.7.6"
  }
 },
 "nbformat": 4,
 "nbformat_minor": 4
}
